{
  "nbformat": 4,
  "nbformat_minor": 0,
  "metadata": {
    "colab": {
      "provenance": []
    },
    "kernelspec": {
      "name": "python3",
      "display_name": "Python 3"
    },
    "language_info": {
      "name": "python"
    }
  },
  "cells": [
    {
      "cell_type": "markdown",
      "source": [],
      "metadata": {
        "id": "FANELN83QKg9"
      }
    },
    {
      "cell_type": "code",
      "source": [
        "\"\"\"\n",
        "QSN-2-What is a class in OOP.\n",
        "ANS-\n",
        "\n",
        "A class typically includes:\n",
        "\n",
        "1. Attributes (data members): These are the variables that define the characteristics of the class.\n",
        "2. Methods (functions): These are the actions that the class can perform.\n",
        "3. Constructors: Special methods that are used to initialize objects when they're created.\n",
        "4. Access modifiers: Keywords that define the accessibility of the class members.\n",
        "\"\"\"\n"
      ],
      "metadata": {
        "colab": {
          "base_uri": "https://localhost:8080/",
          "height": 87
        },
        "id": "VcdJ6TFLSSxQ",
        "outputId": "aeb3c657-04e3-4df8-cb1d-6754c66f5d3b"
      },
      "execution_count": null,
      "outputs": [
        {
          "output_type": "execute_result",
          "data": {
            "text/plain": [
              "\"\\nQSN-2-What is a class in\\xa0OOP.\\nANS-\\n\\nA class typically includes:\\n\\n1. Attributes (data members): These are the variables that define the characteristics of the class.\\n2. Methods (functions): These are the actions that the class can perform.\\n3. Constructors: Special methods that are used to initialize objects when they're created.\\n4. Access modifiers: Keywords that define the accessibility of the class members.\\n\""
            ],
            "application/vnd.google.colaboratory.intrinsic+json": {
              "type": "string"
            }
          },
          "metadata": {},
          "execution_count": 6
        }
      ]
    },
    {
      "cell_type": "code",
      "execution_count": null,
      "metadata": {
        "colab": {
          "base_uri": "https://localhost:8080/",
          "height": 104
        },
        "id": "6SNknTj3RV07",
        "outputId": "c6166859-e5fb-4626-8e5e-8da9939be35b"
      },
      "outputs": [
        {
          "output_type": "execute_result",
          "data": {
            "text/plain": [
              "'\\nQSN-1-What is Object-Oriented Programming\\xa0(OOPS).\\nANS-\\nObject-Oriented Programming (OOP) in Python is a programming paradigm that revolves around the concept of objects(An instance of a class, with its own set of attribute and methods)\\nand classes(A blueprint or template that defines the properties and behavior of an object).\\nit Bundles data and methods that operate on that data within a single unit (Encapsulation).\\nit hides implementation details and showing only the necessary information to the outside world(abstraction)\\nit can Creats a new class based on an existing class, inheriting its properties and behavior(inheritance)\\n'"
            ],
            "application/vnd.google.colaboratory.intrinsic+json": {
              "type": "string"
            }
          },
          "metadata": {},
          "execution_count": 7
        }
      ],
      "source": [
        "\"\"\"\n",
        "QSN-1-What is Object-Oriented Programming (OOPS).\n",
        "ANS-\n",
        "Object-Oriented Programming (OOP) in Python is a programming paradigm that revolves around the concept of objects(An instance of a class, with its own set of attribute and methods)\n",
        "and classes(A blueprint or template that defines the properties and behavior of an object).\n",
        "it Bundles data and methods that operate on that data within a single unit (Encapsulation).\n",
        "it hides implementation details and showing only the necessary information to the outside world(abstraction)\n",
        "it can Creats a new class based on an existing class, inheriting its properties and behavior(inheritance)\n",
        "\"\"\"\n"
      ]
    },
    {
      "cell_type": "code",
      "source": [
        "\"\"\"\n",
        "QSN-3-What is an object in OOP.\n",
        "ANS-\n",
        "an object is an instance of a class, which represents a real-world entity or concept.\n",
        "IT has its own set of attributes (data) and methods (functions) that define its behavior.\n",
        "An object typically has The current values of its attributes, which define its characteristics,it can perform, defined by its methods.\n",
        "\"\"\""
      ],
      "metadata": {
        "colab": {
          "base_uri": "https://localhost:8080/",
          "height": 70
        },
        "id": "fzwv09xyS-FI",
        "outputId": "d1c1bbca-874d-4bfb-f674-bb386aecc16b"
      },
      "execution_count": null,
      "outputs": [
        {
          "output_type": "execute_result",
          "data": {
            "text/plain": [
              "'\\nQSN-3-What is an object in OOP.\\nANS-\\nan object is an instance of a class, which represents a real-world entity or concept.\\nIT has its own set of attributes (data) and methods (functions) that define its behavior.\\nAn object typically has The current values of its attributes, which define its characteristics,it can perform, defined by its methods.\\n'"
            ],
            "application/vnd.google.colaboratory.intrinsic+json": {
              "type": "string"
            }
          },
          "metadata": {},
          "execution_count": 4
        }
      ]
    },
    {
      "cell_type": "code",
      "source": [
        "\"\"\"\n",
        "QSN-4-What is the difference between abstraction and encapsulation.\n",
        "\n",
        "ANS-\n",
        "Key differences\n",
        "\n",
        "1. Purpose: Abstraction is about hiding complexity and exposing a simple interface, while encapsulation is about hiding data and behavior to ensure integrity and security.\n",
        "2. Focus: Abstraction focuses on the interface or contract, while encapsulation focuses on the internal state and behavior of the object.\n",
        "3. Access: Abstraction doesn't necessarily restrict access to the internal state, while encapsulation explicitly hides the internal state and only exposes a public interface.\n",
        "\"\"\"\n"
      ],
      "metadata": {
        "colab": {
          "base_uri": "https://localhost:8080/",
          "height": 104
        },
        "id": "TJykYXS3Tqcv",
        "outputId": "33bee609-0741-45c4-b9be-78ae1fea2851"
      },
      "execution_count": null,
      "outputs": [
        {
          "output_type": "execute_result",
          "data": {
            "text/plain": [
              "\"\\nQSN-4-What is the difference between abstraction and encapsulation.\\n\\nANS-\\nKey differences\\n\\n1. Purpose: Abstraction is about hiding complexity and exposing a simple interface, while encapsulation is about hiding data and behavior to ensure integrity and security.\\n2. Focus: Abstraction focuses on the interface or contract, while encapsulation focuses on the internal state and behavior of the object.\\n3. Access: Abstraction doesn't necessarily restrict access to the internal state, while encapsulation explicitly hides the internal state and only exposes a public interface.\\n\""
            ],
            "application/vnd.google.colaboratory.intrinsic+json": {
              "type": "string"
            }
          },
          "metadata": {},
          "execution_count": 5
        }
      ]
    },
    {
      "cell_type": "code",
      "source": [
        "\"\"\"\n",
        "QSN-5-What are dunder methods in Python\n",
        "ANS-\n",
        "In Python, \"dunder\" methods are special methods that are surrounded by double underscores (i.e., __) on either side of the method name.\n",
        "These methods are also known as \"magic methods\" or \"special methods.\"\n",
        "Dunder methods are used to emulate the behavior of built-in types in Python.\n",
        "They allow you to customize the behavior of your objects, making them more Pythonic and easier to work with.\n",
        "\n",
        "\"\"\""
      ],
      "metadata": {
        "colab": {
          "base_uri": "https://localhost:8080/",
          "height": 87
        },
        "id": "Ao6onaQpUJVW",
        "outputId": "4d506bab-ef8c-409e-d6a1-f2d7807cb561"
      },
      "execution_count": null,
      "outputs": [
        {
          "output_type": "execute_result",
          "data": {
            "text/plain": [
              "'\\nQSN-5-What are dunder methods in Python\\nANS-\\nIn Python, \"dunder\" methods are special methods that are surrounded by double underscores (i.e., __) on either side of the method name. \\nThese methods are also known as \"magic methods\" or \"special methods.\"\\nDunder methods are used to emulate the behavior of built-in types in Python. \\nThey allow you to customize the behavior of your objects, making them more Pythonic and easier to work with.\\n\\n'"
            ],
            "application/vnd.google.colaboratory.intrinsic+json": {
              "type": "string"
            }
          },
          "metadata": {},
          "execution_count": 3
        }
      ]
    },
    {
      "cell_type": "code",
      "source": [
        "\"\"\"\n",
        "QNS-6-Explain the concept of inheritance in OOP.\n",
        "ANS-\n",
        "Inheritance is a mechanism where a new class (the subclass or derived class) inherits the attributes and methods of an existing class (the superclass or base class).\n",
        "The subclass inherits all the fields and methods of the superclass and can also add new fields and methods or override the ones inherited from the superclass.\n",
        "An inhertance can be many type;\n",
        "1. Single Inheritance: A subclass inherits from a single superclass.\n",
        "2. Multiple Inheritance: A subclass inherits from multiple superclasses.\n",
        "3. Multilevel Inheritance: A subclass inherits from a superclass that itself inherits from another superclass.\n",
        "\n",
        "\"\"\""
      ],
      "metadata": {
        "colab": {
          "base_uri": "https://localhost:8080/",
          "height": 104
        },
        "id": "w5rOdfH3UMnW",
        "outputId": "68b21269-0a76-4102-b36a-19f48390fc7d"
      },
      "execution_count": null,
      "outputs": [
        {
          "output_type": "execute_result",
          "data": {
            "text/plain": [
              "'\\nQNS-6-Explain the concept of inheritance in OOP.\\nANS-\\nInheritance is a mechanism where a new class (the subclass or derived class) inherits the attributes and methods of an existing class (the superclass or base class).\\nThe subclass inherits all the fields and methods of the superclass and can also add new fields and methods or override the ones inherited from the superclass.\\nAn inhertance can be many type;\\n1. Single Inheritance: A subclass inherits from a single superclass.\\n2. Multiple Inheritance: A subclass inherits from multiple superclasses.\\n3. Multilevel Inheritance: A subclass inherits from a superclass that itself inherits from another superclass.\\n\\n'"
            ],
            "application/vnd.google.colaboratory.intrinsic+json": {
              "type": "string"
            }
          },
          "metadata": {},
          "execution_count": 9
        }
      ]
    },
    {
      "cell_type": "code",
      "source": [
        "\"\"\"\n",
        "QSN-7-What is polymorphism in OOP\n",
        "ANS-\n",
        "polymorphism enables you to write code that can work with different data types, without knowing the specific data type at compile time.\n",
        "There are several types of polymorphism, including:\n",
        "\n",
        "1. Method Overloading: Multiple methods with the same name can be defined, but with different parameter lists.\n",
        "2. Method Overriding: A subclass provides a different implementation of a method that is already defined in its superclass.\n",
        "3. Operator Overloading: Operators such as +, -, *, / can be redefined for user-defined data types.\n",
        "4. Function Polymorphism: Functions can be defined to accept arguments of different data types.\n",
        "\n",
        "\"\"\""
      ],
      "metadata": {
        "colab": {
          "base_uri": "https://localhost:8080/",
          "height": 104
        },
        "id": "l3H45OlAWAjy",
        "outputId": "6b874b79-ef48-49b0-fa99-c2c140fdef36"
      },
      "execution_count": null,
      "outputs": [
        {
          "output_type": "execute_result",
          "data": {
            "text/plain": [
              "'\\nQSN-7-What is polymorphism in OOP\\nANS-\\npolymorphism enables you to write code that can work with different data types, without knowing the specific data type at compile time.\\nThere are several types of polymorphism, including:\\n\\n1. Method Overloading: Multiple methods with the same name can be defined, but with different parameter lists.\\n2. Method Overriding: A subclass provides a different implementation of a method that is already defined in its superclass.\\n3. Operator Overloading: Operators such as +, -, *, / can be redefined for user-defined data types.\\n4. Function Polymorphism: Functions can be defined to accept arguments of different data types.\\n\\n'"
            ],
            "application/vnd.google.colaboratory.intrinsic+json": {
              "type": "string"
            }
          },
          "metadata": {},
          "execution_count": 10
        }
      ]
    },
    {
      "cell_type": "code",
      "source": [
        "\"\"\"\n",
        "QSN-8-How is encapsulation achieved in Python.\n",
        "ANS-Encapsulation is a fundamental concept in object-oriented programming (OOP) that binds together the data and the methods that manipulate that data,\n",
        "and keeps both safe from outside interference and misuse.\n",
        "In Python, encapsulation is achieved through the use of classes and objects.\n",
        "EXAMPLE-\n",
        "\"\"\"\n",
        "class BankAccount:\n",
        "    def __init__(self, initial_balance=0):\n",
        "        self.__balance = initial_balance\n",
        "\n",
        "    def deposit(self, amount):\n",
        "        if amount > 0:\n",
        "            self.__balance += amount\n",
        "            print(f\"Deposited ₹{amount:.2f}. New balance: ₹{self.__balance:.2f}\")\n",
        "        else:\n",
        "            print(\"Invalid deposit amount.\")\n",
        "\n",
        "    def withdraw(self, amount):\n",
        "        if 0 < amount <= self.__balance:\n",
        "            self.__balance -= amount\n",
        "            print(f\"Withdrew ₹{amount:.2f}. New balance: ₹{self.__balance:.2f}\")\n",
        "        else:\n",
        "            print(\"Invalid withdrawal amount.\")\n",
        "\n",
        "    def check_balance(self):\n",
        "        print(f\"Current balance: ₹{self.__balance:.2f}\")\n",
        "\n",
        "# Create a BankAccount instance\n",
        "account = BankAccount(1000)\n",
        "account.check_balance()\n",
        "account.deposit(500)\n",
        "account.withdraw(200)\n",
        "account.check_balance()\n",
        "\n",
        "# Attempt to access private attribute directly\n",
        "try:\n",
        "    print(account.__balance)\n",
        "except AttributeError:\n",
        "    print(\"Error: Cannot access private attribute directly.\")"
      ],
      "metadata": {
        "colab": {
          "base_uri": "https://localhost:8080/"
        },
        "id": "uouWtujYWpBZ",
        "outputId": "d78afa56-fa72-4ced-d0fb-a08b5e28765b"
      },
      "execution_count": null,
      "outputs": [
        {
          "output_type": "stream",
          "name": "stdout",
          "text": [
            "Current balance: ₹1000.00\n",
            "Deposited ₹500.00. New balance: ₹1500.00\n",
            "Withdrew ₹200.00. New balance: ₹1300.00\n",
            "Current balance: ₹1300.00\n",
            "Error: Cannot access private attribute directly.\n"
          ]
        }
      ]
    },
    {
      "cell_type": "code",
      "source": [
        "\"\"\"\n",
        "QSN-9-What is a constructor in Python.\n",
        "ANS-In Python, the constructor is defined using the __init__ method.\n",
        "The __init__ method is a special method that is reserved for constructors.\n",
        "The double underscores (__) on either side of init are used to indicate that this method is a special method.\n",
        "EXAMPLE-\n",
        "\"\"\"\n",
        "\n",
        "class Person:\n",
        "    def __init__(self, name, age):\n",
        "        self.name = name\n",
        "        self.age = age\n",
        "\n",
        "person = Person(\"Gaurab\", 32)\n",
        "print(person.name)\n",
        "print(person.age)"
      ],
      "metadata": {
        "colab": {
          "base_uri": "https://localhost:8080/"
        },
        "id": "bLFUyrA5XYia",
        "outputId": "64b0a138-9605-426f-c4f8-a216bb385df5"
      },
      "execution_count": null,
      "outputs": [
        {
          "output_type": "stream",
          "name": "stdout",
          "text": [
            "Gaurab\n",
            "32\n"
          ]
        }
      ]
    },
    {
      "cell_type": "code",
      "source": [
        "\"\"\"\n",
        "QSN-10-\n",
        "ANS-\n",
        "A class method is a method that is bound to the class rather than the instance of the class.\n",
        "It can access or modify class state, which means it can access or modify the class's attributes.\n",
        "A static method is a method that belongs to a class, rather than an instance of the class.\n",
        "Static methods do not have access to the class's attributes and cannot modify the class state.\n",
        "EXAMPLES-\n",
        "\"\"\"\n",
        "#CLASS_METHOD\n",
        "class MyClass:\n",
        "    count = 0\n",
        "\n",
        "    def __init__(self):\n",
        "        MyClass.count += 1\n",
        "\n",
        "    @classmethod\n",
        "    def get_count(cls):\n",
        "        return cls.count\n",
        "\n",
        "obj1 = MyClass()\n",
        "obj2 = MyClass()\n",
        "\n",
        "print(MyClass.get_count())\n",
        "#STATIC_METHOD\n",
        "class MyClass:\n",
        "    @staticmethod\n",
        "    def add(x, y):\n",
        "        return x + y\n",
        "\n",
        "print(MyClass.add(2, 3))"
      ],
      "metadata": {
        "colab": {
          "base_uri": "https://localhost:8080/"
        },
        "id": "N632jlGwYHE3",
        "outputId": "fd0164b8-8306-42a7-de65-9a0bf723bcd5"
      },
      "execution_count": null,
      "outputs": [
        {
          "output_type": "stream",
          "name": "stdout",
          "text": [
            "2\n",
            "5\n"
          ]
        }
      ]
    },
    {
      "cell_type": "code",
      "source": [
        "\"\"\"\n",
        "QSN-11-What is method overloading in Python.\n",
        "\n",
        "ANS-In Python, when you define multiple methods with the same name,\n",
        "the last one defined will override the previous ones.\n",
        "This is because Python does not differentiate between methods based on their parameter lists.\n",
        "example-\n",
        "\"\"\"\n",
        "\n",
        "class Animal:\n",
        "    def sound(self):\n",
        "        print(\"The animal makes a sound.\")\n",
        "\n",
        "class Dog(Animal):\n",
        "    def sound(self):\n",
        "        print(\"The dog barks.\")\n",
        "\n",
        "class Cat(Animal):\n",
        "    def sound(self):\n",
        "        print(\"The cat meows.\")\n",
        "\n",
        "dog = Dog()\n",
        "cat = Cat()\n",
        "\n",
        "dog.sound()\n",
        "cat.sound()\n"
      ],
      "metadata": {
        "colab": {
          "base_uri": "https://localhost:8080/"
        },
        "id": "szHnB95En4hf",
        "outputId": "fe02668f-afce-4e25-f372-2edf5382a231"
      },
      "execution_count": null,
      "outputs": [
        {
          "output_type": "stream",
          "name": "stdout",
          "text": [
            "The dog barks.\n",
            "The cat meows.\n"
          ]
        }
      ]
    },
    {
      "cell_type": "code",
      "source": [
        "\"\"\"\n",
        "QSN-12-What is method overriding in OOP.\n",
        "ANS-\n",
        "Method overriding occurs when a subclass defines a method with the same name,\n",
        "return type, and parameter list as a method in its superclass.\n",
        "The subclass method has precedence over the superclass method,\n",
        "and the subclass method is called instead of the superclass method when the method is invoked on an object of the subclass.\n",
        "EXAMPLE-\n",
        "\"\"\"\n",
        "class Animal:\n",
        "    def sound(self):\n",
        "        print(\"The animal makes a sound.\")\n",
        "\n",
        "class Dog(Animal):\n",
        "    def sound(self):\n",
        "        print(\"The dog barks.\")\n",
        "\n",
        "class Cat(Animal):\n",
        "    def sound(self):\n",
        "        print(\"The cat meows.\")\n",
        "\n",
        "dog = Dog()\n",
        "cat = Cat()\n",
        "\n",
        "dog.sound()\n",
        "cat.sound()"
      ],
      "metadata": {
        "colab": {
          "base_uri": "https://localhost:8080/"
        },
        "id": "zV7ucRDCn5Xc",
        "outputId": "7f027695-2a3b-4d23-884b-dc960b6765c0"
      },
      "execution_count": null,
      "outputs": [
        {
          "output_type": "stream",
          "name": "stdout",
          "text": [
            "The dog barks.\n",
            "The cat meows.\n"
          ]
        }
      ]
    },
    {
      "cell_type": "code",
      "source": [
        "\"\"\"\n",
        "QSN-13-What is a property decorator in Python.\n",
        "ANS-The property decorator provides several benefits, including:\n",
        "\n",
        "1. Encapsulation: By using getters and setters, you can control access to instance attributes and ensure that they are used correctly.\n",
        "2. Validation: You can use setters to validate new values before assigning them to instance attributes.\n",
        "3. Improved Code Readability: By using properties, you can make your code more readable and easier to understand.\n",
        "\n",
        "Example Use Case\n",
        "\n",
        "Here's an example use case for the property decorator:\n",
        "\"\"\"\n",
        "class Person:\n",
        "    def __init__(self, name, age):\n",
        "        self._name = name\n",
        "        self._age = age\n",
        "\n",
        "    @property\n",
        "    def name(self):\n",
        "        return self._name\n",
        "\n",
        "    @name.setter\n",
        "    def name(self, new_name):\n",
        "        if not isinstance(new_name, str):\n",
        "            raise ValueError(\"Name must be a string\")\n",
        "        self._name = new_name\n",
        "\n",
        "    @property\n",
        "    def age(self):\n",
        "        return self._age\n",
        "\n",
        "    @age.setter\n",
        "    def age(self, new_age):\n",
        "        if not isinstance(new_age, int) or new_age < 0:\n",
        "            raise ValueError(\"Age must be a non-negative integer\")\n",
        "        self._age = new_age\n",
        "\n",
        "person = Person(\"Gaurab\", 32)\n",
        "print(person.name)\n",
        "print(person.age)\n",
        "try:\n",
        "    person.name = 123\n",
        "except ValueError as e:\n",
        "    print(e)\n",
        "\n",
        "try:\n",
        "    person.age = -1\n",
        "except ValueError as e:\n",
        "    print(e)\n"
      ],
      "metadata": {
        "colab": {
          "base_uri": "https://localhost:8080/"
        },
        "id": "sZPfNaf5rDLR",
        "outputId": "6c0d25cd-369d-4f8d-a956-a2113bcb821e"
      },
      "execution_count": null,
      "outputs": [
        {
          "output_type": "stream",
          "name": "stdout",
          "text": [
            "Gaurab\n",
            "32\n",
            "Name must be a string\n",
            "Age must be a non-negative integer\n"
          ]
        }
      ]
    },
    {
      "cell_type": "code",
      "source": [
        "\"\"\"\n",
        "QSN-14-Why is polymorphism important in OOP.\n",
        "ANS-\n",
        "Polymorphism allows us to write code that can work with different classes without knowing the specific class at compile time.\n",
        "it allows objects of different classes to be treated as objects of a common superclass.\n",
        "Polymorphism allows us to focus on the interface rather than the implementation, making our code more abstract and easier to understand.\n",
        "\n",
        "\"\"\""
      ],
      "metadata": {
        "id": "hR_2rfK9tMI0"
      },
      "execution_count": null,
      "outputs": []
    },
    {
      "cell_type": "code",
      "source": [
        "\"\"\"\n",
        "QSN-15-What is an abstract class in Python\n",
        "ANS-\n",
        "Abstract methods are methods that are declared in an abstract class but not implemented.\n",
        "They must be implemented by any class that inherits from the abstract class.\n",
        "In Python, you can create an abstract class using the abc (Abstract Base Classes)\n",
        "\n",
        "example-\n",
        "\"\"\"\n",
        "from abc import ABC, abstractmethod\n",
        "\n",
        "class AbstractClassExample(ABC):\n",
        "    @abstractmethod\n",
        "    def do_something(self):\n",
        "        pass\n",
        "\n",
        "    def do_something_else(self):\n",
        "        print(\"Doing something else\")\n",
        "\n",
        "class ConcreteSubclass(AbstractClassExample):\n",
        "    def do_something(self):\n",
        "        print(\"Doing something\")\n",
        "\n",
        "obj = ConcreteSubclass()\n",
        "obj.do_something()\n",
        "obj.do_something_else()\n"
      ],
      "metadata": {
        "colab": {
          "base_uri": "https://localhost:8080/"
        },
        "id": "QU2D4wZalxQe",
        "outputId": "b7f8573c-4720-49ab-a148-2cfb360a5121"
      },
      "execution_count": null,
      "outputs": [
        {
          "output_type": "stream",
          "name": "stdout",
          "text": [
            "Doing something\n",
            "Doing something else\n"
          ]
        }
      ]
    },
    {
      "cell_type": "code",
      "source": [
        "\"\"\"\n",
        "QSN-16-What are the advantages of OOP.\n",
        "ANS-\n",
        "1>OOP makes it easier to maintain and update code by allowing for changes to be made at the object or class level without affecting other parts of the program.\n",
        "2>OOP enables faster development by providing a set of pre-defined classes and objects that can be used as building blocks for new programs.\n",
        "3>OOP improves security by providing a way to hide sensitive data and behavior from the outside world, making it harder for malicious code to access or modify sensitive data.\n",
        "4>OOP allows for real-world modeling by providing a way to create objects and classes that mimic real-world entities and systems, making it easier to understand and simulate complex systems.\n",
        "5>OOP enables faster development by providing a set of pre-defined classes and objects that can be used as building blocks for new programs.\n",
        "6>OOP provides better error handling by allowing for errors to be handled at the object or class level, making it easier to catch and handle exceptions.\n",
        "7>OOP provides encapsulation, which is the idea of bundling data and methods that operate on that data into a single unit,\n",
        "making it harder for other parts of the program to access or modify the data directly.\n",
        "\n",
        "\"\"\""
      ],
      "metadata": {
        "id": "rEPHbvzsmpIV"
      },
      "execution_count": null,
      "outputs": []
    },
    {
      "cell_type": "code",
      "source": [
        "\"\"\"\n",
        "QSN-17-What is the difference between a class variable and an instance variable.\n",
        "ANS-\n",
        "\n",
        "Instance Variable:\n",
        "\n",
        "An instance variable is a variable that is unique to each instance of a class.\n",
        "It is defined inside an instance method, and is associated with a specific instance of the class.\n",
        "\n",
        "Here are the key characteristics:\n",
        "\n",
        "1. Unique to each instance: Instance variables are unique to each instance of the class.\n",
        "2. Defined inside an instance method: Instance variables are defined inside an instance method.\n",
        "3. Initialized each time an instance is created: Instance variables are initialized each time an instance of the class is created.\n",
        "4. Can be accessed using an instance of the class: Instance variables can be accessed using an instance of the class.\n",
        "\n",
        "Class Variable:\n",
        "\n",
        "A class variable is a variable that is shared by all instances of a class. It is defined inside the class definition, but outside of any instance method. Class variables are also known as static variables.\n",
        "\n",
        "Here are the key characteristics :\n",
        "\n",
        "1. Shared by all instances: Class variables are shared by all instances of the class.\n",
        "2. Defined at the class level: Class variables are defined inside the class definition, but outside of any instance method.\n",
        "3. Initialized only once: Class variables are initialized only once, when the class is defined.\n",
        "4. Can be accessed using the class name: Class variables can be accessed using the class name, rather than an instance of the class.\n",
        "\n",
        "\"\"\""
      ],
      "metadata": {
        "colab": {
          "base_uri": "https://localhost:8080/",
          "height": 156
        },
        "id": "vmOF1FJnpzNu",
        "outputId": "f3a6b948-1b7c-4ffe-bda4-1655a3015fbc"
      },
      "execution_count": null,
      "outputs": [
        {
          "output_type": "execute_result",
          "data": {
            "text/plain": [
              "'\\nQSN-17-What is the difference between a class variable and an instance variable.\\nANS-\\n\\nInstance Variable:\\n\\nAn instance variable is a variable that is unique to each instance of a class.\\nIt is defined inside an instance method, and is associated with a specific instance of the class.\\n\\nHere are the key characteristics:\\n\\n1. Unique to each instance: Instance variables are unique to each instance of the class.\\n2. Defined inside an instance method: Instance variables are defined inside an instance method.\\n3. Initialized each time an instance is created: Instance variables are initialized each time an instance of the class is created.\\n4. Can be accessed using an instance of the class: Instance variables can be accessed using an instance of the class.\\n\\nClass Variable:\\n\\nA class variable is a variable that is shared by all instances of a class. It is defined inside the class definition, but outside of any instance method. Class variables are also known as static variables.\\n\\nHere are the key characteristics :\\n\\n1. Shared by all instances: Class variables are shared by all instances of the class.\\n2. Defined at the class level: Class variables are defined inside the class definition, but outside of any instance method.\\n3. Initialized only once: Class variables are initialized only once, when the class is defined.\\n4. Can be accessed using the class name: Class variables can be accessed using the class name, rather than an instance of the class.\\n\\n'"
            ],
            "application/vnd.google.colaboratory.intrinsic+json": {
              "type": "string"
            }
          },
          "metadata": {},
          "execution_count": 3
        }
      ]
    },
    {
      "cell_type": "code",
      "source": [
        "\"\"\"\n",
        "QSN-18-What is multiple inheritance in Python.\n",
        "ANS-\n",
        " When a class can inherit attributes and methods from more than one superclass,\n",
        " allowing for more flexibility and code reuse is known as multiple inheritance.\n",
        " example-\n",
        "\"\"\"\n",
        "class Vehicle:\n",
        "    def __init__(self, brand, model):\n",
        "        self.brand = brand\n",
        "        self.model = model\n",
        "\n",
        "    def AP(self):\n",
        "        print(\"Auto pilot mode\")\n",
        "\n",
        "class Electric:\n",
        "    def __init__(self, battery_capacity):\n",
        "        self.battery_capacity = battery_capacity\n",
        "\n",
        "    def charge(self):\n",
        "        print(\"Charging...\")\n",
        "\n",
        "class ElectricCar(Vehicle, Electric):\n",
        "    def __init__(self, brand, model, battery_capacity):\n",
        "        Vehicle.__init__(self, brand, model)\n",
        "        Electric.__init__(self, battery_capacity)\n",
        "\n",
        "    def drive(self):\n",
        "        print(\"Driving...\")\n",
        "\n",
        "my_car = ElectricCar(\"Tata\", \"Nexon_ev\", 75)\n",
        "my_car.AP()\n",
        "my_car.charge()\n",
        "my_car.drive()\n",
        "\n"
      ],
      "metadata": {
        "colab": {
          "base_uri": "https://localhost:8080/"
        },
        "id": "d5WK3nkJqkP5",
        "outputId": "40e0e910-cba6-46fe-f39c-aa9e9c9654d8"
      },
      "execution_count": null,
      "outputs": [
        {
          "output_type": "stream",
          "name": "stdout",
          "text": [
            "Auto pilot mode\n",
            "Charging...\n",
            "Driving...\n"
          ]
        }
      ]
    },
    {
      "cell_type": "code",
      "source": [
        "\"\"\"\n",
        "QSN-19-Explain the purpose of ‘’__str__’ and ‘__repr__’ ‘ methods in Python.\n",
        "ANS-\n",
        "__str__\n",
        "\n",
        "This method is called when you use the print() function or the str() function on an object.\n",
        "The purpose of the __str__ method is to provide a concise and informative string that summarizes the object's state.\n",
        "- __str__is Called by print() and str().\n",
        "\n",
        "*__repr__ method is called when you use the repr() function on an object.\n",
        "The purpose of the __repr__ method is to return a string that is a more formal representation of the object.\n",
        "- __repr__is Called by repr()\n",
        "\n",
        "example\n",
        "\"\"\"\n",
        "\n",
        "class Person:\n",
        "    def __init__(self, name, age):\n",
        "        self.name = name\n",
        "        self.age = age\n",
        "\n",
        "    def __str__(self):\n",
        "        return f\"{self.name}, {self.age} years old\"\n",
        "\n",
        "    def __repr__(self):\n",
        "        return f\"Person('{self.name}', {self.age})\"\n",
        "\n",
        "p = Person(\"Gaurab\", 32)\n",
        "print(p)\n",
        "print(repr(p))"
      ],
      "metadata": {
        "colab": {
          "base_uri": "https://localhost:8080/"
        },
        "id": "-Gv60qH2sx6i",
        "outputId": "df1fadef-4a0d-4835-963c-7918c2db1739"
      },
      "execution_count": null,
      "outputs": [
        {
          "output_type": "stream",
          "name": "stdout",
          "text": [
            "Gaurab, 32 years old\n",
            "Person('Gaurab', 32)\n"
          ]
        }
      ]
    },
    {
      "cell_type": "code",
      "source": [
        "\"\"\"\n",
        "QSN-20-What is the significance of the ‘super()’ function in Python.\n",
        "ANS-When you call super() in a child class,\n",
        "Python creates a proxy object that allows you to access the methods and attributes of the parent class.\n",
        "The proxy object is created using the super() function, which takes two arguments:the child class and the instance of the child class.\n",
        "EXAMPLE\n",
        "\"\"\"\n",
        "class Parent:\n",
        "    def method(self):\n",
        "        print(\"Parent method\")\n",
        "\n",
        "class Child(Parent):\n",
        "    def method(self):\n",
        "        print(\"Child method\")\n",
        "        super().method()\n",
        "\n",
        "child = Child()\n",
        "child.method()\n"
      ],
      "metadata": {
        "colab": {
          "base_uri": "https://localhost:8080/"
        },
        "id": "ru86aGa7vAF0",
        "outputId": "baa69ec5-a1a0-4318-cbfa-51c3221ad9ac"
      },
      "execution_count": null,
      "outputs": [
        {
          "output_type": "stream",
          "name": "stdout",
          "text": [
            "Child method\n",
            "Parent method\n"
          ]
        }
      ]
    },
    {
      "cell_type": "code",
      "source": [
        "\"\"\"\n",
        "QSN-21-What is the significance of the __del__ method in Python.\n",
        "\n",
        "ANS-\n",
        "When an object is no longer needed, Python will automatically call the object's __del__ method,\n",
        "if it exists. The __del__ method is called just before the object is destroyed.\n",
        "This is also known as destrutor method.\n",
        "example-\n",
        "\"\"\"\n",
        "class MyClass:\n",
        "    def __init__(self, name):\n",
        "        self.name = name\n",
        "        print(f\"Object {name} created\")\n",
        "\n",
        "    def __del__(self):\n",
        "        print(f\"Object {self.name} destroyed\")\n",
        "\n",
        "obj = MyClass(\"MyObject\")\n",
        "del obj\n"
      ],
      "metadata": {
        "colab": {
          "base_uri": "https://localhost:8080/"
        },
        "id": "AQfCe6jDv1z0",
        "outputId": "71d96846-d8b5-4b70-fd65-8bffdb51ba8f"
      },
      "execution_count": null,
      "outputs": [
        {
          "output_type": "stream",
          "name": "stdout",
          "text": [
            "Object MyObject created\n",
            "Object MyObject destroyed\n"
          ]
        }
      ]
    },
    {
      "cell_type": "code",
      "source": [
        "\"\"\"\n",
        "QSN-22-\n",
        "ANS-\n",
        "- Access to class variables:\n",
        "@classmethod has access to class variables, while @staticmethod does not.\n",
        "- Implicit first argument:\n",
        " @classmethod takes the class as an implicit first argument (cls), while @staticmethod does not.\n",
        "- Usage:\n",
        "@staticmethod is typically used for utility methods that do not depend on the class or instance state.\n",
        "@classmethod is typically used for methods that need to access or modify class stat.\n",
        "EXAMPLE-\n",
        "\"\"\"\n",
        "class MyClass:\n",
        "    my_class_variable = \"This is a class method\"\n",
        "\n",
        "    @classmethod\n",
        "    def my_class_method(cls):\n",
        "        print(cls.my_class_variable)\n",
        "\n",
        "MyClass.my_class_method()\n",
        "\n",
        "class MyClass:\n",
        "    @staticmethod\n",
        "    def my_static_method():\n",
        "        print(\"This is a static method\")\n",
        "\n",
        "MyClass.my_static_method()\n"
      ],
      "metadata": {
        "colab": {
          "base_uri": "https://localhost:8080/"
        },
        "id": "L0sFjrLYwm-b",
        "outputId": "45b3da8d-5be3-454d-974c-590df71308be"
      },
      "execution_count": null,
      "outputs": [
        {
          "output_type": "stream",
          "name": "stdout",
          "text": [
            "This is a class method\n",
            "This is a static method\n"
          ]
        }
      ]
    },
    {
      "cell_type": "code",
      "source": [
        "\"\"\"\n",
        "QSN-23-How does polymorphism work in Python with inheritance.\n",
        "ANS-\n",
        "In Python, polymorphism is achieved through method overriding or method overloading in conjunction with inheritance.\n",
        "EXAMPLE-\n",
        "\"\"\"\n",
        "#Polymorphism-\n",
        "class scooter:\n",
        "    def fuel(self):\n",
        "        print(\"The animal makes a sound.\")\n",
        "\n",
        "class ola(scooter):\n",
        "    def fuel(self):\n",
        "        print(\"runs on charging\")\n",
        "\n",
        "class tvs_jupiter(scooter):\n",
        "    def fuel(self):\n",
        "        print(\"runs on petrol\")\n",
        "\n",
        "scooter = ola()\n",
        "scooter.fuel()\n",
        "\n",
        "scooter = tvs_jupiter()\n",
        "scooter.fuel()"
      ],
      "metadata": {
        "colab": {
          "base_uri": "https://localhost:8080/"
        },
        "id": "KxSaaxpfyUli",
        "outputId": "fd6e0233-29e0-4d4a-9dd5-baa43641f337"
      },
      "execution_count": null,
      "outputs": [
        {
          "output_type": "stream",
          "name": "stdout",
          "text": [
            "runs on charging\n",
            "runs on petrol\n"
          ]
        }
      ]
    },
    {
      "cell_type": "code",
      "source": [
        "\"\"\"\n",
        "QSN-24-What is method chaining in Python OOP.\n",
        "ANS-\n",
        "Method chaining provides several benefits, including:\n",
        "\n",
        "1. Improved readability: Method chaining can make your code more readable by reducing the number of temporary variables and improving the flow of your code.\n",
        "2. Increased flexibility: Method chaining allows you to add or remove methods from the chain as needed, making it easier to modify your code.\n",
        "3. Reduced boilerplate code: Method chaining can reduce the amount of boilerplate code you need to write, making your code more concise and efficient.\n",
        "Explaining with an example-\n",
        "\"\"\"\n",
        "class Person:\n",
        "    def __init__(self, name):\n",
        "        self.name = name\n",
        "\n",
        "    def course(self,course ):\n",
        "        self.course = course\n",
        "        return self\n",
        "\n",
        "    def fees(self, fees):\n",
        "        self.fees = fees\n",
        "        return self\n",
        "\n",
        "    def print_info(self):\n",
        "        print(f\"Name: {self.name}, course: {self.course}, fees: {self.fees}\")\n",
        "\n",
        "person = Person(\"Gaurab\")\n",
        "person.course(\"pwskills\").fees(\"20000\").print_info()\n"
      ],
      "metadata": {
        "colab": {
          "base_uri": "https://localhost:8080/"
        },
        "id": "o4JSzXAt00aC",
        "outputId": "5f185d50-0c40-417c-95bd-3063ff1538fc"
      },
      "execution_count": null,
      "outputs": [
        {
          "output_type": "stream",
          "name": "stdout",
          "text": [
            "Name: Gaurab, course: pwskills, fees: 20000\n"
          ]
        }
      ]
    },
    {
      "cell_type": "code",
      "source": [
        "\"\"\"\n",
        "QSN-25-What is the purpose of the __call__ method in Python.\n",
        "ANS-\n",
        "The purpose of the __call__ method is to enable objects to behave like functions, allowing for more flexibility and expressiveness in programming.\n",
        "By defining a __call__ method, we can create objects that can be used as functions, with their own state and behavior.\n",
        "example-\n",
        "\"\"\"\n",
        "class Add_to:\n",
        "    def __init__(self, value):\n",
        "        self.value = value\n",
        "\n",
        "    def __call__(self, x):\n",
        "        return self.value + x\n",
        "\n",
        "add_five = Add_to(5)\n",
        "print(add_five(3))"
      ],
      "metadata": {
        "colab": {
          "base_uri": "https://localhost:8080/"
        },
        "id": "2j-Om-c53YtW",
        "outputId": "f30cc8c8-b21b-4fc4-b2fc-1431fc12e8c5"
      },
      "execution_count": null,
      "outputs": [
        {
          "output_type": "stream",
          "name": "stdout",
          "text": [
            "8\n"
          ]
        }
      ]
    }
  ]
}